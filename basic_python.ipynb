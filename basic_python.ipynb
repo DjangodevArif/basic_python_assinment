{
 "cells": [
  {
   "cell_type": "markdown",
   "id": "fba961e8",
   "metadata": {},
   "source": [
    "# 1. Write a program that swaps the values of two variables."
   ]
  },
  {
   "cell_type": "code",
   "execution_count": 2,
   "id": "ff31a455",
   "metadata": {},
   "outputs": [
    {
     "name": "stdout",
     "output_type": "stream",
     "text": [
      "(20, 10)\n"
     ]
    }
   ],
   "source": [
    "def swap_variable_value(x,y):\n",
    "    if x:\n",
    "        temp_y=x\n",
    "    if y:\n",
    "        temp_x=y\n",
    "    x=temp_x\n",
    "    y=temp_y\n",
    "    return x,y\n",
    "result1 = swap_variable_value(x=10,y=20)\n",
    "print(result1)"
   ]
  },
  {
   "cell_type": "markdown",
   "id": "e6cb8b22",
   "metadata": {},
   "source": [
    "# 2. Write a program that calculates the area of a rectangle given its length and width."
   ]
  },
  {
   "cell_type": "code",
   "execution_count": 4,
   "id": "927e27d2",
   "metadata": {},
   "outputs": [
    {
     "name": "stdout",
     "output_type": "stream",
     "text": [
      "10\n"
     ]
    }
   ],
   "source": [
    "def get_area(x:int,y:int):\n",
    "    rect = x*y\n",
    "    return rect\n",
    "result = get_area(5,2)\n",
    "print(result)"
   ]
  },
  {
   "cell_type": "markdown",
   "id": "c747c894",
   "metadata": {},
   "source": [
    "# 3. Write a program that converts temperature from Fahrenheit to Celsius."
   ]
  },
  {
   "cell_type": "code",
   "execution_count": 9,
   "id": "c0f1b5c4",
   "metadata": {},
   "outputs": [
    {
     "name": "stdout",
     "output_type": "stream",
     "text": [
      "50.55555555555556\n"
     ]
    }
   ],
   "source": [
    "def convert_to_celsius(fahrenheit):\n",
    "    celsius = (fahrenheit-32)*5/9\n",
    "    return celsius\n",
    "\n",
    "result = convert_to_celsius(123)\n",
    "print(result)"
   ]
  },
  {
   "cell_type": "markdown",
   "id": "4ee240b6",
   "metadata": {},
   "source": [
    "# 4. Write a program that calculates the volume of a sphere given its radius."
   ]
  },
  {
   "cell_type": "code",
   "execution_count": 10,
   "id": "4ce4226a",
   "metadata": {},
   "outputs": [
    {
     "name": "stdout",
     "output_type": "stream",
     "text": [
      "332869.30666666664\n"
     ]
    }
   ],
   "source": [
    "def get_sphere_volume(radius):\n",
    "    pi =3.14\n",
    "    volume = (4/3) * pi * (radius ** 3)\n",
    "    return volume\n",
    "result = get_sphere_volume(43)\n",
    "print(result)"
   ]
  },
  {
   "cell_type": "markdown",
   "id": "5359f38e",
   "metadata": {},
   "source": [
    "# 5. Write a program that finds the average of three numbers."
   ]
  },
  {
   "cell_type": "code",
   "execution_count": 11,
   "id": "fbc34260",
   "metadata": {},
   "outputs": [
    {
     "name": "stdout",
     "output_type": "stream",
     "text": [
      "5.666666666666667\n"
     ]
    }
   ],
   "source": [
    "def get_average(x:int,y:int,z:int):\n",
    "    getsum = x+y+z\n",
    "    average = getsum/3\n",
    "    return average\n",
    "result = get_average(2,3,12)\n",
    "print(result)"
   ]
  },
  {
   "cell_type": "markdown",
   "id": "3c6157ac",
   "metadata": {},
   "source": [
    "# 6. Write a program that determines if a number is even or odd."
   ]
  },
  {
   "cell_type": "code",
   "execution_count": null,
   "id": "537914d4",
   "metadata": {},
   "outputs": [],
   "source": [
    "def define_even_or_odd(x:int):\n",
    "    if x%2==0:\n",
    "        print(f\"{x} is even! \")\n",
    "    else:\n",
    "        print(f\"{x} is odd! \")\n",
    "result = d"
   ]
  },
  {
   "cell_type": "markdown",
   "id": "a9e26069",
   "metadata": {},
   "source": [
    "# 7. Write a program that finds the maximum of three numbers."
   ]
  },
  {
   "cell_type": "code",
   "execution_count": 4,
   "id": "351dbc04",
   "metadata": {},
   "outputs": [
    {
     "name": "stdout",
     "output_type": "stream",
     "text": [
      "26\n"
     ]
    }
   ],
   "source": [
    "def maximum_number(x:int,y:int,z:int):\n",
    "    if x>y and x>z:\n",
    "        return x\n",
    "    elif y>x and y>z:\n",
    "        return y\n",
    "    else:\n",
    "        return z\n",
    "    \n",
    "result = maximum_number(26,23,2)\n",
    "print(result)"
   ]
  },
  {
   "cell_type": "markdown",
   "id": "10af17aa",
   "metadata": {},
   "source": [
    "# 8. Write a program that determines if a year is a leap year or not."
   ]
  },
  {
   "cell_type": "code",
   "execution_count": 17,
   "id": "33cd22e3",
   "metadata": {},
   "outputs": [
    {
     "name": "stdout",
     "output_type": "stream",
     "text": [
      "2024 is leap year is True\n"
     ]
    }
   ],
   "source": [
    "def is_leap_year(x:int):\n",
    "    if x%4 ==0:\n",
    "        return True\n",
    "    return False\n",
    "\n",
    "result = is_leap_year(2024)\n",
    "print(f\"2024 is leap year is {result}\")"
   ]
  },
  {
   "cell_type": "markdown",
   "id": "017c1635",
   "metadata": {},
   "source": [
    "# 9. Write a program that determines if a number is positive, negative, or zero."
   ]
  },
  {
   "cell_type": "code",
   "execution_count": 22,
   "id": "3041ffb8",
   "metadata": {},
   "outputs": [
    {
     "name": "stdout",
     "output_type": "stream",
     "text": [
      "1 is positive.\n"
     ]
    }
   ],
   "source": [
    "def determine_a_digit(x:int):\n",
    "    if x>0:\n",
    "        print(f\"{x} is positive.\")\n",
    "    elif x<0:\n",
    "        print(f\"{x} is negitive\")\n",
    "    else:\n",
    "        print(f\"{x} is zero\")\n",
    "\n",
    "determine_a_digit(1)"
   ]
  },
  {
   "cell_type": "markdown",
   "id": "6195c92a",
   "metadata": {},
   "source": [
    "# 10. Write a program that calculates the grade based on a given percentage."
   ]
  },
  {
   "cell_type": "code",
   "execution_count": 28,
   "id": "c7c43211",
   "metadata": {},
   "outputs": [
    {
     "name": "stdout",
     "output_type": "stream",
     "text": [
      "C+\n"
     ]
    }
   ],
   "source": [
    "def determine_grade(number:int):\n",
    "    if 100>number>80:\n",
    "        return \"A+\"\n",
    "    elif 100>number>60:\n",
    "        return \"B+\"\n",
    "    elif 100>number>40:\n",
    "        return \"C+\"\n",
    "    else:\n",
    "        return \"D+\"\n",
    "result = determine_grade(41)\n",
    "print(result)"
   ]
  },
  {
   "cell_type": "markdown",
   "id": "395eb7fd",
   "metadata": {},
   "source": [
    "# 11. Write a program that prints the first `n` natural numbers."
   ]
  },
  {
   "cell_type": "code",
   "execution_count": 30,
   "id": "7a68a85e",
   "metadata": {
    "scrolled": false
   },
   "outputs": [
    {
     "name": "stdout",
     "output_type": "stream",
     "text": [
      "0\n",
      "1\n",
      "2\n",
      "3\n",
      "4\n",
      "5\n",
      "6\n",
      "7\n",
      "8\n",
      "9\n",
      "10\n",
      "11\n",
      "12\n",
      "13\n",
      "14\n",
      "15\n",
      "16\n",
      "17\n",
      "18\n",
      "19\n",
      "20\n",
      "21\n"
     ]
    }
   ],
   "source": [
    "def n_number(x:int):\n",
    "    for i in range(0,x+1):\n",
    "        print(i)\n",
    "\n",
    "n_number(21)"
   ]
  },
  {
   "cell_type": "markdown",
   "id": "021ebd20",
   "metadata": {},
   "source": [
    "# 12. Write a program that calculates the factorial of a number."
   ]
  },
  {
   "cell_type": "code",
   "execution_count": 34,
   "id": "cc641297",
   "metadata": {},
   "outputs": [
    {
     "name": "stdout",
     "output_type": "stream",
     "text": [
      "1\n",
      "2\n",
      "6\n",
      "24\n"
     ]
    },
    {
     "data": {
      "text/plain": [
       "24"
      ]
     },
     "execution_count": 34,
     "metadata": {},
     "output_type": "execute_result"
    }
   ],
   "source": [
    "def get_factorial(x:int):\n",
    "    temp=1\n",
    "    for i in range(1,x+1):\n",
    "        temp *= i\n",
    "        print(temp)\n",
    "    return temp\n",
    "\n",
    "get_factorial(4)\n",
    "    "
   ]
  },
  {
   "cell_type": "markdown",
   "id": "0e90312c",
   "metadata": {},
   "source": [
    "# 13. Write a program that generates a Fibonacci sequence of length `n`."
   ]
  },
  {
   "cell_type": "code",
   "execution_count": 35,
   "id": "9c105a5d",
   "metadata": {},
   "outputs": [
    {
     "name": "stdout",
     "output_type": "stream",
     "text": [
      "[0, 1, 1, 2, 3, 5, 8, 13, 21, 34, 55, 89]\n"
     ]
    }
   ],
   "source": [
    "def fibonacci_series(x:int):\n",
    "    a,b=0,1\n",
    "    series=[]\n",
    "    for _ in range(0,x):\n",
    "        series.append(a)\n",
    "        a,b=b,a+b\n",
    "    return series\n",
    "result = fibonacci_series(12)\n",
    "print(result)"
   ]
  },
  {
   "cell_type": "markdown",
   "id": "50772d60",
   "metadata": {},
   "source": [
    "# 14. Write a program that checks if a given number is prime or not."
   ]
  },
  {
   "cell_type": "code",
   "execution_count": 57,
   "id": "856048bc",
   "metadata": {},
   "outputs": [
    {
     "name": "stdout",
     "output_type": "stream",
     "text": [
      "2\n",
      "True\n"
     ]
    }
   ],
   "source": [
    "def is_prime(x:int):\n",
    "    for i in range(2,x):\n",
    "        if x%i ==0:\n",
    "            print(i)\n",
    "#             return True\n",
    "        else:\n",
    "#             return False\n",
    "result = is_prime(12)\n",
    "print(result)"
   ]
  },
  {
   "cell_type": "markdown",
   "id": "569831db",
   "metadata": {},
   "source": [
    "# 15. Write a program that prints the multiplication table of a given number."
   ]
  },
  {
   "cell_type": "code",
   "execution_count": 1,
   "id": "f153f9a8",
   "metadata": {},
   "outputs": [
    {
     "name": "stdout",
     "output_type": "stream",
     "text": [
      "9 x 1 = 9\n",
      "9 x 2 = 18\n",
      "9 x 3 = 27\n",
      "9 x 4 = 36\n",
      "9 x 5 = 45\n",
      "9 x 6 = 54\n",
      "9 x 7 = 63\n",
      "9 x 8 = 72\n",
      "9 x 9 = 81\n",
      "9 x 10 = 90\n"
     ]
    }
   ],
   "source": [
    "def multiplication(x:int):\n",
    "    for i in range(1,11):\n",
    "        count = x*i\n",
    "        print(f\"{x} x {i} = {count}\")\n",
    "\n",
    "multiplication(9)"
   ]
  },
  {
   "cell_type": "markdown",
   "id": "a80a5dc0",
   "metadata": {},
   "source": [
    "# 16. Write a program that finds the sum of all even numbers between 1 and `n`."
   ]
  },
  {
   "cell_type": "code",
   "execution_count": 3,
   "id": "3527953c",
   "metadata": {},
   "outputs": [
    {
     "name": "stdout",
     "output_type": "stream",
     "text": [
      "12\n"
     ]
    }
   ],
   "source": [
    "def sum_of_even_number(x:int):\n",
    "    sum_amount = 0\n",
    "    for i in range(1,x+1):\n",
    "        if i%2 ==0:\n",
    "            sum_amount +=i\n",
    "\n",
    "    return sum_amount\n",
    "result = sum_of_even_number(6)\n",
    "print(result)\n",
    "            "
   ]
  },
  {
   "cell_type": "markdown",
   "id": "bdfe3f1f",
   "metadata": {},
   "source": [
    "# 17. Write a program that reverses a given number."
   ]
  },
  {
   "cell_type": "code",
   "execution_count": 6,
   "id": "f1d38bf0",
   "metadata": {},
   "outputs": [
    {
     "name": "stdout",
     "output_type": "stream",
     "text": [
      "521\n"
     ]
    }
   ],
   "source": [
    "def reverse_int(x:int):\n",
    "    reverse = int(str(x)[::-1])\n",
    "    return reverse\n",
    "\n",
    "result = reverse_int(125)\n",
    "print(result)"
   ]
  },
  {
   "cell_type": "markdown",
   "id": "196fcde1",
   "metadata": {},
   "source": [
    "# 18. Write a program that checks if a given string is a palindrome."
   ]
  },
  {
   "cell_type": "code",
   "execution_count": 11,
   "id": "342348f3",
   "metadata": {},
   "outputs": [
    {
     "name": "stdout",
     "output_type": "stream",
     "text": [
      "is aaaaaa a palindrome True \n"
     ]
    }
   ],
   "source": [
    "def is_palindrome(x:str):\n",
    "    if x == x[::-1]:\n",
    "        return True\n",
    "    else:\n",
    "        return False\n",
    "\n",
    "result = is_palindrome(\"aaaaaa\")\n",
    "print(f\"is aaaaaa a palindrome {result} \")"
   ]
  },
  {
   "cell_type": "markdown",
   "id": "490c7ea5",
   "metadata": {},
   "source": [
    "# 19. Write a program that generates a random number and allows the user to guess it."
   ]
  },
  {
   "cell_type": "code",
   "execution_count": 16,
   "id": "c009c3d9",
   "metadata": {
    "scrolled": true
   },
   "outputs": [
    {
     "name": "stdout",
     "output_type": "stream",
     "text": [
      "Guess the number23\n",
      "Ops it's wrong.\n",
      "Type 'c' to continue! Otherwise type any to quite!c\n",
      "Guess the number25\n",
      "Ops it's wrong.\n",
      "Type 'c' to continue! Otherwise type any to quite!c\n",
      "Guess the number29\n",
      "Ops it's wrong.\n",
      "Type 'c' to continue! Otherwise type any to quite!11\n"
     ]
    }
   ],
   "source": [
    "import random\n",
    "def guess_the_number():\n",
    "    n = random.randint(1,10)\n",
    "    \n",
    "    def compare():\n",
    "        user_n = int(input(\"Guess the number\"))\n",
    "        if n!=user_n:\n",
    "            print(\"Ops it's wrong.\")\n",
    "            again = input(\"Type 'c' to continue! Otherwise type any to quite!\")\n",
    "            if again==\"c\":\n",
    "                compare()\n",
    "            else:\n",
    "                return None\n",
    "    compare()\n",
    "            \n",
    "guess_the_number()\n",
    "        "
   ]
  },
  {
   "cell_type": "markdown",
   "id": "f7e31a85",
   "metadata": {},
   "source": [
    "# 20. Write a program that finds the greatest common divisor (GCD) of two numbers."
   ]
  },
  {
   "cell_type": "code",
   "execution_count": 17,
   "id": "380b9166",
   "metadata": {},
   "outputs": [
    {
     "name": "stdout",
     "output_type": "stream",
     "text": [
      "2\n"
     ]
    }
   ],
   "source": [
    "def common_divisor(x:int,y:int):\n",
    "    x_divisor ={1}\n",
    "    y_divisor ={1}\n",
    "    for i in range(2,x):\n",
    "        if x%i ==0:\n",
    "            x_divisor.add(i)\n",
    "    for yi in range(2,y):\n",
    "        if y%yi ==0:\n",
    "            y_divisor.add(yi)\n",
    "    common_divisor = x_divisor.intersection(y_divisor)\n",
    "    \n",
    "    return max(common_divisor)\n",
    "\n",
    "result = common_divisor(50,42)\n",
    "print(result)\n",
    "            "
   ]
  }
 ],
 "metadata": {
  "kernelspec": {
   "display_name": "Python 3 (ipykernel)",
   "language": "python",
   "name": "python3"
  },
  "language_info": {
   "codemirror_mode": {
    "name": "ipython",
    "version": 3
   },
   "file_extension": ".py",
   "mimetype": "text/x-python",
   "name": "python",
   "nbconvert_exporter": "python",
   "pygments_lexer": "ipython3",
   "version": "3.11.5"
  }
 },
 "nbformat": 4,
 "nbformat_minor": 5
}
